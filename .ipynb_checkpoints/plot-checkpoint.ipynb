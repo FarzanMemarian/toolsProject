{
 "cells": [
  {
   "cell_type": "code",
   "execution_count": 11,
   "metadata": {
    "collapsed": false,
    "scrolled": true
   },
   "outputs": [
    {
     "name": "stdout",
     "output_type": "stream",
     "text": [
      "100\n"
     ]
    }
   ],
   "source": [
    "import numpy as np\n",
    "import matplotlib.pyplot as plt\n",
    "from mpl_toolkits.mplot3d import Axes3D\n",
    "from matplotlib import rcParams\n",
    "\n",
    "x = np.linspace(0.2, 5, 100)\n",
    "data = np.loadtxt(\"prob2.txt\")\n",
    "print (len(data))\n",
    "type(data)\n",
    "data1=data[:,0]\n",
    "data2=data[:,1]\n",
    "data3=data[:,2]\n",
    "data4=data[:,3]\n",
    "data5=data[:,4]\n",
    "data6=data[:,5]\n",
    "    "
   ]
  },
  {
   "cell_type": "code",
   "execution_count": 16,
   "metadata": {
    "collapsed": true
   },
   "outputs": [],
   "source": [
    "fig1 = plt.figure()\n",
    "\n",
    "ax = fig1.gca(projection='3d')\n",
    "ax.plot(data1, data2, data3, \n",
    "        label = '3D curve', # label of the curve\n",
    "        color = 'DarkMagenta',      # colour of the curve\n",
    "        linewidth = 3.2,            # thickness of the line\n",
    "        linestyle = '--'            # available styles - -- -. :\n",
    "        )\n",
    "rcParams['legend.fontsize'] = 11    # legend font size\n",
    "ax.legend()                         # adds the legend\n",
    "\n",
    "ax.set_xlabel('X axis')\n",
    "#ax.set_xlim(-1.2, 1.2)\n",
    "ax.set_ylabel('Y axis')\n",
    "#ax.set_ylim(-1.2, 1.2)\n",
    "ax.set_zlabel('Z axis')\n",
    "#ax.set_zlim(-4*np.pi, 4*np.pi)\n",
    "\n",
    "ax.set_title('3D line plot,\\n movement of particle', va='bottom')\n",
    "\n",
    "ax.view_init(elev=18, azim=-27)             # camera elevation and angle \n",
    "ax.dist=9                                   # camera distance\n",
    "plt.show()                                  # display the plot\n",
    "\n",
    "plt.savefig(\"prob2_3D.pdf\")\n",
    "plt.close(fig1)\n"
   ]
  },
  {
   "cell_type": "code",
   "execution_count": null,
   "metadata": {
    "collapsed": true
   },
   "outputs": [],
   "source": [
    "fig2 = plt.figure()\n",
    "plt.plot(x,y2)\n",
    "data1=data[:,0]\n",
    "data2=data[:,1]\n",
    "plt.plot(data1,data2,\"ro\")\n",
    "plt.ylabel(\"Energy [hartrees:]\")\n",
    "plt.xlabel(\"r [Angstroms]\")\n",
    "plt.title(\"Energy vs r, polynomial with exponential basis:\")\n",
    "plt.savefig(\"second.pdf\")\n",
    "plt.close(fig2)\n"
   ]
  }
 ],
 "metadata": {
  "anaconda-cloud": {},
  "kernelspec": {
   "display_name": "Python [Root]",
   "language": "python",
   "name": "Python [Root]"
  },
  "language_info": {
   "codemirror_mode": {
    "name": "ipython",
    "version": 3
   },
   "file_extension": ".py",
   "mimetype": "text/x-python",
   "name": "python",
   "nbconvert_exporter": "python",
   "pygments_lexer": "ipython3",
   "version": "3.5.2"
  }
 },
 "nbformat": 4,
 "nbformat_minor": 0
}
