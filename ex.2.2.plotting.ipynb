{
 "cells": [
  {
   "cell_type": "code",
   "execution_count": 32,
   "metadata": {
    "collapsed": false
   },
   "outputs": [
    {
     "name": "stdout",
     "output_type": "stream",
     "text": [
      "10\n"
     ]
    }
   ],
   "source": [
    "import numpy as np\n",
    "import matplotlib.pyplot as plt\n",
    "\n",
    "coeffs = np.loadtxt(\"x1.txt\")\n",
    "coeffs2 = np.loadtxt(\"x2.txt\")\n",
    "x = np.linspace(0.2, 5, 100)\n",
    "y1 = coeffs[0] + coeffs[1]*x + coeffs[2]*x**2 + coeffs[3]*x**3+ coeffs[4]*x**4+ coeffs[5]*x**5+ coeffs[6]*x**6\n",
    "y2 = coeffs2[0] + coeffs2[1]*np.exp(-x) + coeffs2[2]*np.exp(-2*x)+ coeffs2[3]*np.exp(-3*x) + coeffs2[4]*np.exp(-4*x) \\\n",
    "+ coeffs2[5]*np.exp(-5*x) + coeffs2[6]*np.exp(-6*x)\n",
    "data = np.loadtxt(\"data.2.2.txt\")\n",
    "print (len(data))\n",
    "\n",
    "fig1 = plt.figure()\n",
    "plt.plot(x,y1)\n",
    "data1=data[:,0]\n",
    "data2=data[:,1]\n",
    "plt.plot(data1,data2,\"ro\")\n",
    "plt.ylabel(\"Energy [hartrees]\")\n",
    "plt.xlabel(\"r [Angstroms]\")\n",
    "plt.title(\"Energy vs r, polynomial with canonical basis\")\n",
    "plt.savefig(\"first.pdf\")\n",
    "plt.close(fig1)\n",
    "\n",
    "\n",
    "fig2 = plt.figure()\n",
    "plt.plot(x,y2)\n",
    "data1=data[:,0]\n",
    "data2=data[:,1]\n",
    "plt.plot(data1,data2,\"ro\")\n",
    "plt.ylabel(\"Energy [hartrees:]\")\n",
    "plt.xlabel(\"r [Angstroms]\")\n",
    "plt.title(\"Energy vs r, polynomial with exponential basis:\")\n",
    "plt.savefig(\"second.pdf\")\n",
    "plt.close(fig2)\n",
    "\n",
    "\n",
    "\n",
    "\n",
    "\n",
    "\n"
   ]
  }
 ],
 "metadata": {
  "anaconda-cloud": {},
  "kernelspec": {
   "display_name": "Python [Root]",
   "language": "python",
   "name": "Python [Root]"
  },
  "language_info": {
   "codemirror_mode": {
    "name": "ipython",
    "version": 3
   },
   "file_extension": ".py",
   "mimetype": "text/x-python",
   "name": "python",
   "nbconvert_exporter": "python",
   "pygments_lexer": "ipython3",
   "version": "3.5.2"
  }
 },
 "nbformat": 4,
 "nbformat_minor": 0
}
